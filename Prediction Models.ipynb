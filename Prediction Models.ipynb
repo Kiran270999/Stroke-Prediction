{
 "cells": [
  {
   "cell_type": "markdown",
   "id": "a2e09aec",
   "metadata": {},
   "source": [
    "# * *  *  *  *  *  *  *  *  *  *  *  *  * *  *  *Prediction Models* * *  *  *  *  *  *  *  *  *  *  *  *  *  *  *  *  * \n",
    "\n",
    "## *Importing all Libaries*\n"
   ]
  },
  {
   "cell_type": "code",
   "execution_count": 1,
   "id": "cdbbf05f",
   "metadata": {},
   "outputs": [],
   "source": [
    "import pandas as pd\n",
    "import numpy as np\n",
    "import matplotlib.pyplot as mtp \n",
    "import sklearn"
   ]
  },
  {
   "cell_type": "markdown",
   "id": "1876074c",
   "metadata": {},
   "source": [
    "## *Importing all Models from sklearn*"
   ]
  },
  {
   "cell_type": "code",
   "execution_count": 2,
   "id": "62b489f4",
   "metadata": {},
   "outputs": [],
   "source": [
    "from sklearn.naive_bayes import GaussianNB\n",
    "from sklearn.svm import SVC\n",
    "from sklearn.neighbors import KNeighborsClassifier\n",
    "from sklearn.cluster import k_means\n",
    "from sklearn.tree import DecisionTreeClassifier\n",
    "from sklearn.preprocessing import LabelEncoder"
   ]
  },
  {
   "cell_type": "markdown",
   "id": "7c3993f9",
   "metadata": {},
   "source": [
    "## *Importing model for Splitting the data and checking the accuracy*"
   ]
  },
  {
   "cell_type": "code",
   "execution_count": 3,
   "id": "646c61a8",
   "metadata": {},
   "outputs": [],
   "source": [
    "from sklearn.model_selection import train_test_split\n",
    "from sklearn.metrics import classification_report\n",
    "from sklearn.metrics import accuracy_score,confusion_matrix"
   ]
  },
  {
   "cell_type": "markdown",
   "id": "c5f649b9",
   "metadata": {},
   "source": [
    "## *Functions of All models*"
   ]
  },
  {
   "cell_type": "code",
   "execution_count": 4,
   "id": "7bccec75",
   "metadata": {},
   "outputs": [],
   "source": [
    "class classifier():\n",
    "    \n",
    "    # Read the Data,\n",
    "    # Describe the dependent, Independent variables\n",
    "    # Split the data in Train and Test\n",
    "    \n",
    "    def __init__ (self):\n",
    "        self.data = pd.read_csv(\"healthcare-dataset-stroke-data.csv\")\n",
    "        self.data = self.data.drop(self.data[self.data['gender']=='Other'].index)\n",
    "        self.bmi_mean = self.data['bmi'].mean\n",
    "        self.data['bmi'] = self.data['bmi'].fillna(self.bmi_mean)\n",
    "        self.data.drop('id',axis = 1,inplace = True)\n",
    "        obj_cols = ['gender', 'ever_married', 'Residence_type']\n",
    "        self.lb = LabelEncoder()\n",
    "        \n",
    "        for i in obj_cols:\n",
    "            self.data[i] = self.lb.fit_transform(self.data[i])\n",
    "        self.data=pd.get_dummies(self.data)\n",
    "        \n",
    "        self.y = self.data['stroke']\n",
    "        self.X = self.data.drop('stroke', axis = 1)\n",
    "        self.X_train,self.X_test,self.y_train,self.y_test = train_test_split(self.X,self.y, test_size=0.20, random_state= 42)\n",
    "        \n",
    "        \n",
    "    # Navie Bayes model\n",
    "      \n",
    "    def Navie_bayes(self):\n",
    "        gnb = GaussianNB()\n",
    "        gnb.fit(self.X_train,self.y_train)\n",
    "        self.y_pred = gnb.predict(self.X_test)\n",
    "        mae = accuracy_score(self.y_test, self.y_pred)*100\n",
    "        print(\"Gaussian Naive Bayes model accuracy(in %):\",mae) \n",
    "        \n",
    "    # Decision Tree \n",
    "    \n",
    "    def decision_tree(self):\n",
    "        self.dec_model = DecisionTreeClassifier()\n",
    "        self.dec_model.fit(self.X_train,self.y_train)\n",
    "        self.pred = self.dec_model.predict(self.X_test)\n",
    "        self.accuracy = accuracy_score(self.y_test,self.pred)*100\n",
    "        print('Decision tree model Accuracy : ',self.accuracy)\n",
    "        \n",
    "        \n",
    "    # Support Vector Machine(SVM)\n",
    "    \n",
    "    def svm(self):\n",
    "        svc_model = SVC(C = .1, kernel = 'linear', gamma = 1)\n",
    "        svc_model.fit(self.X_train,self.y_train)\n",
    "        self.y_pred = svc_model.predict(self.X_test)\n",
    "        acc = svc_model.score(self.X_test, self.y_test)*100\n",
    "        print(\" Support Vector Machine Accuracy: \",acc)\n",
    "    \n",
    "    # K Nearest Neighbour alogorithm(KNN)\n",
    "    \n",
    "    def knn(self):\n",
    "        self.knn_model =  KNeighborsClassifier(n_neighbors = 5, metric ='minkowski', p = 2 )\n",
    "        self.knn_model.fit(self.X_train,self.y_train)\n",
    "        self.y_pred = self.knn_model.predict(self.X_test)\n",
    "        acc_scr =self.knn_model.score(self.X_train, self.y_train)*100\n",
    "        print(\"K Nearest Neighbour alogorithm accuracy : \",acc_scr)\n",
    "    \n",
    "    # K means \n",
    "     \n",
    "    def k_mean(self):\n",
    "        print(\"K mean accuracy : \")\n",
    "        \n",
    "    \n"
   ]
  },
  {
   "cell_type": "markdown",
   "id": "fbecc178",
   "metadata": {},
   "source": [
    "## *Switch Cases*"
   ]
  },
  {
   "cell_type": "code",
   "execution_count": 5,
   "id": "2f0c6d0d",
   "metadata": {},
   "outputs": [],
   "source": [
    "def switchers(a):\n",
    "    obj= classifier()\n",
    "    if a == 1:\n",
    "        return obj.Navie_bayes()\n",
    "    elif a == 2:\n",
    "        return obj.decision_tree()\n",
    "    elif a == 3:\n",
    "        return obj.svm()\n",
    "    elif a == 4:\n",
    "        return obj.knn()\n",
    "    elif a == 5:\n",
    "        return obj.k_mean()\n",
    "    else:\n",
    "        print(\"Invalid Input\")"
   ]
  },
  {
   "cell_type": "markdown",
   "id": "bb1ca9b5",
   "metadata": {},
   "source": [
    "## *Main Function*"
   ]
  },
  {
   "cell_type": "code",
   "execution_count": 6,
   "id": "9739ff21",
   "metadata": {},
   "outputs": [],
   "source": [
    "def main():\n",
    "    obj = classifier()\n",
    "    print(\"Choose the model for the prediction\")\n",
    "    print(\"\"\"\n",
    "             1. Navie Bayes model         \n",
    "             2. Decision Tree\n",
    "             3. Support Vector Machine(SVM)\n",
    "             4. K Nearest Neighbour alogorithm(KNN)\n",
    "             5. K means \n",
    "               \"\"\")\n",
    "    model_inp = int(input())\n",
    "    switchers(model_inp)"
   ]
  },
  {
   "cell_type": "code",
   "execution_count": null,
   "id": "9260868a",
   "metadata": {},
   "outputs": [
    {
     "name": "stdout",
     "output_type": "stream",
     "text": [
      "Choose the model for the prediction\n",
      "\n",
      "             1. Navie Bayes model         \n",
      "             2. Decision Tree\n",
      "             3. Support Vector Machine(SVM)\n",
      "             4. K Nearest Neighbour alogorithm(KNN)\n",
      "             5. K means \n",
      "               \n",
      "5\n",
      "K mean accuracy : \n",
      "Choose the model for the prediction\n",
      "\n",
      "             1. Navie Bayes model         \n",
      "             2. Decision Tree\n",
      "             3. Support Vector Machine(SVM)\n",
      "             4. K Nearest Neighbour alogorithm(KNN)\n",
      "             5. K means \n",
      "               \n"
     ]
    }
   ],
   "source": [
    "while True:\n",
    "    main()"
   ]
  },
  {
   "cell_type": "code",
   "execution_count": null,
   "id": "10ac3efe",
   "metadata": {},
   "outputs": [],
   "source": []
  }
 ],
 "metadata": {
  "kernelspec": {
   "display_name": "Python 3 (ipykernel)",
   "language": "python",
   "name": "python3"
  },
  "language_info": {
   "codemirror_mode": {
    "name": "ipython",
    "version": 3
   },
   "file_extension": ".py",
   "mimetype": "text/x-python",
   "name": "python",
   "nbconvert_exporter": "python",
   "pygments_lexer": "ipython3",
   "version": "3.9.13"
  }
 },
 "nbformat": 4,
 "nbformat_minor": 5
}
